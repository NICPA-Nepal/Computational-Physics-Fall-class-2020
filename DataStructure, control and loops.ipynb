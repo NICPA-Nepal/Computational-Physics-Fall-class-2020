{
 "metadata": {
  "language_info": {
   "codemirror_mode": {
    "name": "ipython",
    "version": 3
   },
   "file_extension": ".py",
   "mimetype": "text/x-python",
   "name": "python",
   "nbconvert_exporter": "python",
   "pygments_lexer": "ipython3",
   "version": "3.7.7-final"
  },
  "orig_nbformat": 2,
  "kernelspec": {
   "name": "Python 3.7.7 64-bit ('base': conda)",
   "display_name": "Python 3.7.7 64-bit ('base': conda)",
   "metadata": {
    "interpreter": {
     "hash": "42586e27f6d94440f72033f095fd9a88b523b0c572b7a3ee68dfb7c6d424936a"
    }
   }
  }
 },
 "nbformat": 4,
 "nbformat_minor": 2,
 "cells": [
  {
   "source": [
    "# DataStructures, Control Statements and LOOPings"
   ],
   "cell_type": "markdown",
   "metadata": {}
  },
  {
   "source": [
    "## Data Structures\n",
    "We have studied numbers: integers and floats and alphabets: characters. They are data types that means they represent data. Now **Data types** are the collection of such data types. There are some datatypes that are built un in python. The built-in data Structures are:\n",
    "- Lists\n",
    "- Tuples\n",
    "- Dictionaries\n",
    "- Strings\n",
    "- Sets\n",
    "\n",
    "Lists, strings and tuples are ordered sequences of objects. Unlike strings that contain only characters, list and tuples can contain any type of objects. Lists and tuples are like arrays. Tuples like strings are immutables. Lists are mutables so they can be extended or reduced at will. Sets are mutable unordered sequence of unique elements whereas frozensets are immutable sets.(we will see examples later)\n",
    "\n",
    "## Lists\n",
    "Lists are ordered sequences of objects enclosed in  square brackets([]). They are lists of objects. The objects can be any data type (including lists), and it is allowed to mix data types. In this way they are much more flexible than arrays. It may contain integers, floats, strings, lists and other objects."
   ],
   "cell_type": "markdown",
   "metadata": {}
  },
  {
   "cell_type": "code",
   "execution_count": 100,
   "metadata": {},
   "outputs": [
    {
     "output_type": "execute_result",
     "data": {
      "text/plain": "list"
     },
     "metadata": {},
     "execution_count": 100
    }
   ],
   "source": [
    "# initialize a list\n",
    "list_1=[]\n",
    "type(list_1)"
   ]
  },
  {
   "cell_type": "code",
   "execution_count": 101,
   "metadata": {
    "tags": []
   },
   "outputs": [
    {
     "output_type": "stream",
     "name": "stdout",
     "text": "['hi', 25, 1, 1.4, [1, 2]]\n"
    },
    {
     "output_type": "execute_result",
     "data": {
      "text/plain": "list"
     },
     "metadata": {},
     "execution_count": 101
    }
   ],
   "source": [
    "# initialize a list with items(objects) and assigned it to 'l'\n",
    "l = ['hi',25,1,1.4,[1,2]]\n",
    "print(l)\n",
    "type(l)"
   ]
  },
  {
   "source": [
    "### Indexing\n",
    "list index starts from 0"
   ],
   "cell_type": "markdown",
   "metadata": {}
  },
  {
   "cell_type": "code",
   "execution_count": 102,
   "metadata": {
    "tags": []
   },
   "outputs": [
    {
     "output_type": "stream",
     "name": "stdout",
     "text": "[0, 1, 2, 3, 4, 5, 6]\n0\n6\n[2, 3]\n[0, 1]\n[2, 3, 4, 5, 6]\n[1, 3, 5]\n"
    }
   ],
   "source": [
    "l=[0,1,2,3,4,5,6]\n",
    "print(l)\n",
    "# return first item\n",
    "print(l[0])\n",
    "# return last item\n",
    "print(l[-1])\n",
    "# returns item indexed from 2 to 4(not including 4)\n",
    "print(l[2:4])\n",
    "# returns items indexed less then 2(not including)\n",
    "print(l[:2])\n",
    "# returns items indexed more than 2(including)\n",
    "print(l[2:])\n",
    "# returns items indexed from 1(including ) spaaced by 2\n",
    "print(l[1::2])"
   ]
  },
  {
   "source": [
    "### Methods on list\n",
    "They are basically operations or function applied on the list. We will discuss some of them in this session."
   ],
   "cell_type": "markdown",
   "metadata": {}
  },
  {
   "cell_type": "code",
   "execution_count": 103,
   "metadata": {},
   "outputs": [
    {
     "output_type": "execute_result",
     "data": {
      "text/plain": "[0, 1, 2, 3, 4, 5, 6, 5]"
     },
     "metadata": {},
     "execution_count": 103
    }
   ],
   "source": [
    "# add items/object to the list at last\n",
    "l.append(5)\n",
    "# l.append('t')\n",
    "l"
   ]
  },
  {
   "cell_type": "code",
   "execution_count": 104,
   "metadata": {
    "tags": []
   },
   "outputs": [
    {
     "output_type": "stream",
     "name": "stdout",
     "text": "[0, 0, 1, 2, 3, 4, 5, 6, 5]\n[5, 6, 5, 4, 3, 2, 1, 0, 0]\n[5, 6, 5, 4, 3, 2, 1, 0]\n[6, 5, 4, 3, 2, 1, 0]\n[6, 5, 4, 2, 1, 0]\n"
    }
   ],
   "source": [
    "# insert an item at an index\n",
    "l.insert(0,0)\n",
    "print(l)\n",
    "# reverse the items in the list\n",
    "l.reverse()\n",
    "print(l)\n",
    "# remove the last item in the list\n",
    "l.pop()\n",
    "print(l)\n",
    "# remove the item '5' from the list\n",
    "l.remove(5)\n",
    "print(l)\n",
    "# remove the item l[4],i.e. item indexed 4 in list l\n",
    "l.remove(l[3])\n",
    "print(l)"
   ]
  },
  {
   "cell_type": "code",
   "execution_count": 105,
   "metadata": {
    "tags": []
   },
   "outputs": [
    {
     "output_type": "stream",
     "name": "stdout",
     "text": "[0, 4, 5, 8, 68, 536]\n[536, 68, 8, 5, 4, 0]\n6\n"
    }
   ],
   "source": [
    "a = [0,5,68,4,536,8]\n",
    "# returns the list with items sorted in ascending order\n",
    "a.sort()\n",
    "print(a)\n",
    "# in decending order\n",
    "a.sort(reverse=True)\n",
    "print(a)\n",
    "# returns number of items in the list\n",
    "print(len(a))"
   ]
  },
  {
   "source": [
    "## Tuples\n",
    "Tuples are a data structure very similar to the list data structure. They are enclose by small bracket:() The main difference being that tuple manipulation are faster than list because tuples are immutable."
   ],
   "cell_type": "markdown",
   "metadata": {}
  },
  {
   "cell_type": "code",
   "execution_count": 106,
   "metadata": {
    "tags": []
   },
   "outputs": [
    {
     "output_type": "stream",
     "name": "stdout",
     "text": "(1, 2, 3)\n"
    },
    {
     "output_type": "execute_result",
     "data": {
      "text/plain": "tuple"
     },
     "metadata": {},
     "execution_count": 106
    }
   ],
   "source": [
    "t=(1,2,3)\n",
    "print(t)\n",
    "type(t)"
   ]
  },
  {
   "cell_type": "code",
   "execution_count": 107,
   "metadata": {
    "tags": []
   },
   "outputs": [
    {
     "output_type": "error",
     "ename": "TypeError",
     "evalue": "'tuple' object does not support item assignment",
     "traceback": [
      "\u001b[1;31m---------------------------------------------------------------------------\u001b[0m",
      "\u001b[1;31mTypeError\u001b[0m                                 Traceback (most recent call last)",
      "\u001b[1;32m<ipython-input-107-02a5309fa9f0>\u001b[0m in \u001b[0;36m<module>\u001b[1;34m\u001b[0m\n\u001b[0;32m      1\u001b[0m \u001b[1;31m# immutable\u001b[0m\u001b[1;33m\u001b[0m\u001b[1;33m\u001b[0m\u001b[1;33m\u001b[0m\u001b[0m\n\u001b[1;32m----> 2\u001b[1;33m \u001b[0mt\u001b[0m\u001b[1;33m[\u001b[0m\u001b[1;36m1\u001b[0m\u001b[1;33m]\u001b[0m\u001b[1;33m=\u001b[0m\u001b[1;36m2\u001b[0m\u001b[1;33m\u001b[0m\u001b[1;33m\u001b[0m\u001b[0m\n\u001b[0m",
      "\u001b[1;31mTypeError\u001b[0m: 'tuple' object does not support item assignment"
     ]
    }
   ],
   "source": [
    "# immutable\n",
    "t[1]=2\n"
   ]
  },
  {
   "source": [
    "## Dictionary\n",
    "A dictionary is a sequence of items. Each item is a pair made of a key and a value. Dictionaries are not sorted. You can access to the list of keys or values independently."
   ],
   "cell_type": "markdown",
   "metadata": {
    "tags": []
   }
  },
  {
   "cell_type": "code",
   "execution_count": 71,
   "metadata": {
    "tags": []
   },
   "outputs": [
    {
     "output_type": "stream",
     "name": "stdout",
     "text": "{'first': 'string value', 'second': [1, 2]}\n"
    },
    {
     "output_type": "execute_result",
     "data": {
      "text/plain": "dict"
     },
     "metadata": {},
     "execution_count": 71
    }
   ],
   "source": [
    "d = {'first':'string value',\n",
    "     'second':[1,2]}\n",
    "print(d)\n",
    "type(d)"
   ]
  },
  {
   "cell_type": "code",
   "execution_count": 70,
   "metadata": {
    "tags": []
   },
   "outputs": [
    {
     "output_type": "stream",
     "name": "stdout",
     "text": "dict_keys(['first', 'second'])\ndict_values(['string value', [1, 2]])\n"
    }
   ],
   "source": [
    "print(d.keys())\n",
    "print(d.values())"
   ]
  },
  {
   "cell_type": "code",
   "execution_count": 72,
   "metadata": {},
   "outputs": [
    {
     "output_type": "execute_result",
     "data": {
      "text/plain": "[1, 2]"
     },
     "metadata": {},
     "execution_count": 72
    }
   ],
   "source": [
    "# rule: you cannot dublicate any key\n",
    "# access a key\n",
    "d['second']"
   ]
  },
  {
   "cell_type": "code",
   "execution_count": 74,
   "metadata": {
    "tags": []
   },
   "outputs": [
    {
     "output_type": "stream",
     "name": "stdout",
     "text": "{'first': 'string value', 'second': [2, 3]}\n"
    }
   ],
   "source": [
    "# edit a value\n",
    "d['second']=[2,3]\n",
    "print(d)"
   ]
  },
  {
   "source": [
    "## Set\n",
    "It is a data structure containing sequence of unique items"
   ],
   "cell_type": "markdown",
   "metadata": {}
  },
  {
   "cell_type": "code",
   "execution_count": 81,
   "metadata": {},
   "outputs": [
    {
     "output_type": "execute_result",
     "data": {
      "text/plain": "{1, 2, 3, 4, 5, 6}"
     },
     "metadata": {},
     "execution_count": 81
    }
   ],
   "source": [
    "a = set([1, 2, 3, 4])\n",
    "b = set([3, 4, 5, 6])\n",
    "a | b # Union"
   ]
  },
  {
   "cell_type": "code",
   "execution_count": 82,
   "metadata": {},
   "outputs": [
    {
     "output_type": "execute_result",
     "data": {
      "text/plain": "{3, 4}"
     },
     "metadata": {},
     "execution_count": 82
    }
   ],
   "source": [
    "a & b"
   ]
  },
  {
   "cell_type": "code",
   "execution_count": 85,
   "metadata": {},
   "outputs": [
    {
     "output_type": "execute_result",
     "data": {
      "text/plain": "False"
     },
     "metadata": {},
     "execution_count": 85
    }
   ],
   "source": [
    "a < b # Subset"
   ]
  },
  {
   "cell_type": "code",
   "execution_count": 84,
   "metadata": {},
   "outputs": [
    {
     "output_type": "execute_result",
     "data": {
      "text/plain": "{1, 2}"
     },
     "metadata": {},
     "execution_count": 84
    }
   ],
   "source": [
    "a - b # Difference"
   ]
  },
  {
   "source": [
    "## Comparison Operators\n",
    "Comparision operators are operators that compare values and return true or false . The operators include: > , < , >= , <= , === , and !== ... "
   ],
   "cell_type": "markdown",
   "metadata": {}
  },
  {
   "cell_type": "code",
   "execution_count": 108,
   "metadata": {},
   "outputs": [
    {
     "output_type": "execute_result",
     "data": {
      "text/plain": "False"
     },
     "metadata": {},
     "execution_count": 108
    }
   ],
   "source": [
    "1 > 2"
   ]
  },
  {
   "cell_type": "code",
   "execution_count": 109,
   "metadata": {},
   "outputs": [
    {
     "output_type": "execute_result",
     "data": {
      "text/plain": "True"
     },
     "metadata": {},
     "execution_count": 109
    }
   ],
   "source": [
    "1 < 2"
   ]
  },
  {
   "cell_type": "code",
   "execution_count": 110,
   "metadata": {},
   "outputs": [
    {
     "output_type": "execute_result",
     "data": {
      "text/plain": "True"
     },
     "metadata": {},
     "execution_count": 110
    }
   ],
   "source": [
    "1 >= 1"
   ]
  },
  {
   "cell_type": "code",
   "execution_count": 111,
   "metadata": {},
   "outputs": [
    {
     "output_type": "execute_result",
     "data": {
      "text/plain": "True"
     },
     "metadata": {},
     "execution_count": 111
    }
   ],
   "source": [
    "1 == 1"
   ]
  },
  {
   "cell_type": "code",
   "execution_count": 112,
   "metadata": {},
   "outputs": [
    {
     "output_type": "execute_result",
     "data": {
      "text/plain": "False"
     },
     "metadata": {},
     "execution_count": 112
    }
   ],
   "source": [
    "'hi' == 'bye'"
   ]
  },
  {
   "source": [
    "## Logic Operators\n",
    "Logical operators — operators that combine multiple boolean expressions or values and provide a single boolean output. The operators include: & , | , and ! "
   ],
   "cell_type": "markdown",
   "metadata": {}
  },
  {
   "cell_type": "code",
   "execution_count": 117,
   "metadata": {},
   "outputs": [
    {
     "output_type": "execute_result",
     "data": {
      "text/plain": "False"
     },
     "metadata": {},
     "execution_count": 117
    }
   ],
   "source": [
    "(1 > 2) and (2 < 3)\n",
    "(1 > 2) & (2 < 3)"
   ]
  },
  {
   "cell_type": "code",
   "execution_count": 119,
   "metadata": {},
   "outputs": [
    {
     "output_type": "execute_result",
     "data": {
      "text/plain": "True"
     },
     "metadata": {},
     "execution_count": 119
    }
   ],
   "source": [
    "(1 == 2) or (2 == 3) \n",
    "(1 == 2) | (2 == 3) "
   ]
  },
  {
   "source": [
    "## if,elif, else Statements\n",
    "A control statement is a statement that determines whether other statements will be executed. An if statement decides whether to execute another statement, or decides which of two statements to execute. \n",
    "\n",
    "If the control statement is true, the body of the statement will run, else it wont work."
   ],
   "cell_type": "markdown",
   "metadata": {}
  },
  {
   "cell_type": "code",
   "execution_count": 87,
   "metadata": {
    "tags": []
   },
   "outputs": [
    {
     "output_type": "stream",
     "name": "stdout",
     "text": "Yep!\n"
    }
   ],
   "source": [
    "if 1 < 2:  # if 1<2, the block below it will run. \n",
    "    print('Yep!')"
   ]
  },
  {
   "cell_type": "code",
   "execution_count": 88,
   "metadata": {
    "tags": []
   },
   "outputs": [
    {
     "output_type": "stream",
     "name": "stdout",
     "text": "first\n"
    }
   ],
   "source": [
    "a = 0\n",
    "if a < 2:  #\n",
    "    print('first')\n",
    "else:\n",
    "    print('last')"
   ]
  },
  {
   "cell_type": "code",
   "execution_count": 89,
   "metadata": {
    "tags": []
   },
   "outputs": [
    {
     "output_type": "stream",
     "name": "stdout",
     "text": "last\n"
    }
   ],
   "source": [
    "a=0\n",
    "if a > 2:  #\n",
    "    print('first')\n",
    "else:\n",
    "    print('last')"
   ]
  },
  {
   "cell_type": "code",
   "execution_count": 129,
   "metadata": {
    "tags": []
   },
   "outputs": [
    {
     "output_type": "stream",
     "name": "stdout",
     "text": "middle\n"
    }
   ],
   "source": [
    "a=3\n",
    "if a == 2:  #\n",
    "    print('first')\n",
    "elif a == 3:  #\n",
    "    print('middle')\n",
    "else:\n",
    "    print('Last')"
   ]
  },
  {
   "source": [
    "## Loops\n",
    "A loop decides how many times to execute another statement. A Loop executes the sequence of statements many times until the stated condition becomes false. A loop consists of two parts, a body of a loop and a control statement. The control statement is a combination of some conditions that direct the body of the loop to execute until the specified condition becomes false\n",
    "\n",
    "\n"
   ],
   "cell_type": "markdown",
   "metadata": {}
  },
  {
   "source": [
    "![loop_figure](Figures/loop_figure.JPG)"
   ],
   "cell_type": "markdown",
   "metadata": {
    "tags": []
   }
  },
  {
   "cell_type": "code",
   "execution_count": null,
   "metadata": {},
   "outputs": [],
   "source": [
    "## For loop\n",
    "A for loop is used for iterating over a sequence (that is either a list, a tuple, a dictionary, a set, or a string).\n"
   ]
  },
  {
   "cell_type": "code",
   "execution_count": 91,
   "metadata": {},
   "outputs": [],
   "source": [
    "seq = [1,2,3,4,5]"
   ]
  },
  {
   "cell_type": "code",
   "execution_count": 92,
   "metadata": {
    "tags": []
   },
   "outputs": [
    {
     "output_type": "stream",
     "name": "stdout",
     "text": "1\n2\n3\n4\n5\n"
    }
   ],
   "source": [
    "for item in seq:\n",
    "    print(item)"
   ]
  },
  {
   "cell_type": "code",
   "execution_count": 93,
   "metadata": {
    "tags": []
   },
   "outputs": [
    {
     "output_type": "stream",
     "name": "stdout",
     "text": "Yep\nYep\nYep\nYep\nYep\n"
    }
   ],
   "source": [
    "for item in seq:\n",
    "    print('Yep')"
   ]
  },
  {
   "cell_type": "code",
   "execution_count": 94,
   "metadata": {
    "tags": []
   },
   "outputs": [
    {
     "output_type": "stream",
     "name": "stdout",
     "text": "2\n4\n6\n8\n10\n"
    }
   ],
   "source": [
    "for jelly in seq:\n",
    "    print(jelly+jelly)"
   ]
  },
  {
   "source": [
    "## while Loops\n",
    "while loop we can execute a set of statements as long as a condition is true.\n",
    "Syntax:\n",
    "- while expression:\n",
    "- __ ____ statement(s)"
   ],
   "cell_type": "markdown",
   "metadata": {}
  },
  {
   "cell_type": "code",
   "execution_count": 95,
   "metadata": {
    "tags": []
   },
   "outputs": [
    {
     "output_type": "stream",
     "name": "stdout",
     "text": "i is: 1\ni is: 2\ni is: 3\ni is: 4\n"
    }
   ],
   "source": [
    "i = 1\n",
    "while i < 5:\n",
    "    print('i is: {}'.format(i))\n",
    "    i = i+1"
   ]
  },
  {
   "source": [
    "## range()"
   ],
   "cell_type": "markdown",
   "metadata": {}
  },
  {
   "cell_type": "code",
   "execution_count": 131,
   "metadata": {},
   "outputs": [
    {
     "output_type": "execute_result",
     "data": {
      "text/plain": "range"
     },
     "metadata": {},
     "execution_count": 131
    }
   ],
   "source": [
    "range(5)"
   ]
  },
  {
   "cell_type": "code",
   "execution_count": 98,
   "metadata": {
    "tags": []
   },
   "outputs": [
    {
     "output_type": "stream",
     "name": "stdout",
     "text": "0\n1\n2\n3\n4\n"
    }
   ],
   "source": [
    "for i in range(5):\n",
    "    print(i)"
   ]
  },
  {
   "cell_type": "code",
   "execution_count": 99,
   "metadata": {},
   "outputs": [
    {
     "output_type": "execute_result",
     "data": {
      "text/plain": "[0, 1, 2, 3, 4]"
     },
     "metadata": {},
     "execution_count": 99
    }
   ],
   "source": [
    "list(range(5))"
   ]
  }
 ]
}